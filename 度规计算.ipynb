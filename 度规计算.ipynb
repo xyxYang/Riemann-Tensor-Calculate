{
 "cells": [
  {
   "cell_type": "markdown",
   "id": "1bfde058-6ed9-4b14-9c47-60a83b6870ba",
   "metadata": {},
   "source": [
    "# 曲率计算代码\n",
    "\n",
    "这个代码使用在以度规为已知条件，使用符号计算的方式，得到特定度规和曲率张量的关系。"
   ]
  },
  {
   "cell_type": "code",
   "execution_count": 38,
   "id": "112b43c4-708b-4c60-a488-43816c910e36",
   "metadata": {
    "tags": []
   },
   "outputs": [
    {
     "data": {
      "text/latex": [
       "$\\displaystyle \\left[\\begin{matrix}\\left[\\begin{matrix}0 & 0 & 0 & 0\\\\0 & 0 & 0 & 0\\\\0 & 0 & \\frac{\\partial}{\\partial x_{0}} H{\\left(x_{0},x_{1},x_{2} \\right)} & 0\\\\0 & 0 & 0 & 0\\end{matrix}\\right] & \\left[\\begin{matrix}0 & 0 & 0 & 0\\\\0 & 0 & 0 & 0\\\\0 & 0 & \\frac{\\partial}{\\partial x_{1}} H{\\left(x_{0},x_{1},x_{2} \\right)} & 0\\\\0 & 0 & 0 & 0\\end{matrix}\\right] & \\left[\\begin{matrix}0 & 0 & 0 & 0\\\\0 & 0 & 0 & 0\\\\0 & 0 & \\frac{\\partial}{\\partial x_{2}} H{\\left(x_{0},x_{1},x_{2} \\right)} & 0\\\\0 & 0 & 0 & 0\\end{matrix}\\right] & \\left[\\begin{matrix}0 & 0 & 0 & 0\\\\0 & 0 & 0 & 0\\\\0 & 0 & 0 & 0\\\\0 & 0 & 0 & 0\\end{matrix}\\right]\\end{matrix}\\right]$"
      ],
      "text/plain": [
       "[[[0, 0, 0, 0], [0, 0, 0, 0], [0, 0, Derivative(H(x_0, x_1, x_2), x_0), 0], [0, 0, 0, 0]], [[0, 0, 0, 0], [0, 0, 0, 0], [0, 0, Derivative(H(x_0, x_1, x_2), x_1), 0], [0, 0, 0, 0]], [[0, 0, 0, 0], [0, 0, 0, 0], [0, 0, Derivative(H(x_0, x_1, x_2), x_2), 0], [0, 0, 0, 0]], [[0, 0, 0, 0], [0, 0, 0, 0], [0, 0, 0, 0], [0, 0, 0, 0]]]"
      ]
     },
     "execution_count": 38,
     "metadata": {},
     "output_type": "execute_result"
    }
   ],
   "source": [
    "import sympy\n",
    "from sympy import sin, cos, log, exp\n",
    "\n",
    "x_num = 4\n",
    "x_list = sympy.symarray('x', x_num)\n",
    "\n",
    "x_0 = x_list[0]\n",
    "x_1 = x_list[1]\n",
    "x_2 = x_list[2]\n",
    "H = sympy.Function(\"H\")\n",
    "H = H(x_0, x_1, x_2)\n",
    "\n",
    "\n",
    "# 度规张量\n",
    "G_down = sympy.Array(\n",
    "        [[1, 0, 0, 0],\n",
    "        [0, 1, 0, 0],\n",
    "        [0, 0, H, 1],\n",
    "        [0, 0, 1, 0]])\n",
    "\n",
    "\n",
    "G_up = sympy.Array(G_down.tomatrix().inv())\n",
    "\n",
    "# 求度规张量的导数\n",
    "G_diff = sympy.derive_by_array(G_down, x_list)\n",
    "\n",
    "G_diff"
   ]
  },
  {
   "cell_type": "code",
   "execution_count": 39,
   "id": "cd631818-1d15-4bc1-b847-7c778f65b37c",
   "metadata": {},
   "outputs": [
    {
     "data": {
      "text/latex": [
       "$\\displaystyle \\left[\\begin{matrix}\\left[\\begin{matrix}0 & 0 & 0 & 0\\\\0 & 0 & 0 & 0\\\\0 & 0 & - \\frac{\\partial}{\\partial x_{0}} H{\\left(x_{0},x_{1},x_{2} \\right)} & 0\\\\0 & 0 & 0 & 0\\end{matrix}\\right] & \\left[\\begin{matrix}0 & 0 & 0 & 0\\\\0 & 0 & 0 & 0\\\\0 & 0 & - \\frac{\\partial}{\\partial x_{1}} H{\\left(x_{0},x_{1},x_{2} \\right)} & 0\\\\0 & 0 & 0 & 0\\end{matrix}\\right] & \\left[\\begin{matrix}0 & 0 & 0 & 0\\\\0 & 0 & 0 & 0\\\\0 & 0 & 0 & 0\\\\0 & 0 & 0 & 0\\end{matrix}\\right] & \\left[\\begin{matrix}0 & 0 & \\frac{\\partial}{\\partial x_{0}} H{\\left(x_{0},x_{1},x_{2} \\right)} & 0\\\\0 & 0 & \\frac{\\partial}{\\partial x_{1}} H{\\left(x_{0},x_{1},x_{2} \\right)} & 0\\\\\\frac{\\partial}{\\partial x_{0}} H{\\left(x_{0},x_{1},x_{2} \\right)} & \\frac{\\partial}{\\partial x_{1}} H{\\left(x_{0},x_{1},x_{2} \\right)} & \\frac{\\partial}{\\partial x_{2}} H{\\left(x_{0},x_{1},x_{2} \\right)} & 0\\\\0 & 0 & 0 & 0\\end{matrix}\\right]\\end{matrix}\\right]$"
      ],
      "text/plain": [
       "[[[0, 0, 0, 0], [0, 0, 0, 0], [0, 0, -Derivative(H(x_0, x_1, x_2), x_0), 0], [0, 0, 0, 0]], [[0, 0, 0, 0], [0, 0, 0, 0], [0, 0, -Derivative(H(x_0, x_1, x_2), x_1), 0], [0, 0, 0, 0]], [[0, 0, 0, 0], [0, 0, 0, 0], [0, 0, 0, 0], [0, 0, 0, 0]], [[0, 0, Derivative(H(x_0, x_1, x_2), x_0), 0], [0, 0, Derivative(H(x_0, x_1, x_2), x_1), 0], [Derivative(H(x_0, x_1, x_2), x_0), Derivative(H(x_0, x_1, x_2), x_1), Derivative(H(x_0, x_1, x_2), x_2), 0], [0, 0, 0, 0]]]"
      ]
     },
     "execution_count": 39,
     "metadata": {},
     "output_type": "execute_result"
    }
   ],
   "source": [
    "# 计算克里斯多菲符号\n",
    "Lambda = [[[0] * x_num for i in range(x_num)] for j in range(x_num)]\n",
    "\n",
    "for i in range(x_num):\n",
    "    for j in range(x_num):\n",
    "        for k in range(x_num):\n",
    "            tensor = sympy.tensorproduct(G_up[i, :], (G_diff[k, j, :] + G_diff[j, k, :] - G_diff[:, j, k]))\n",
    "            Lambda[i][j][k] = sympy.tensorcontraction(tensor, (0, 1))\n",
    "\n",
    "Lambda = sympy.simplify(sympy.Array(Lambda))\n",
    "Lambda"
   ]
  },
  {
   "cell_type": "code",
   "execution_count": 40,
   "id": "171fe929-f8d4-42fb-991f-a547bcbdb4a5",
   "metadata": {},
   "outputs": [
    {
     "data": {
      "text/latex": [
       "$\\displaystyle \\left[\\begin{matrix}\\left[\\begin{matrix}0 & 0 & 0 & 0\\\\0 & 0 & 0 & 0\\\\0 & 0 & 0 & 0\\\\0 & 0 & 0 & 0\\end{matrix}\\right] & \\left[\\begin{matrix}0 & 0 & 0 & 0\\\\0 & 0 & 0 & 0\\\\0 & 0 & 0 & 0\\\\0 & 0 & 0 & 0\\end{matrix}\\right] & \\left[\\begin{matrix}0 & 0 & - \\frac{\\partial^{2}}{\\partial x_{0}^{2}} H{\\left(x_{0},x_{1},x_{2} \\right)} & 0\\\\0 & 0 & - \\frac{\\partial^{2}}{\\partial x_{1}\\partial x_{0}} H{\\left(x_{0},x_{1},x_{2} \\right)} & 0\\\\\\frac{\\partial^{2}}{\\partial x_{0}^{2}} H{\\left(x_{0},x_{1},x_{2} \\right)} & \\frac{\\partial^{2}}{\\partial x_{1}\\partial x_{0}} H{\\left(x_{0},x_{1},x_{2} \\right)} & 0 & 0\\\\0 & 0 & 0 & 0\\end{matrix}\\right] & \\left[\\begin{matrix}0 & 0 & 0 & 0\\\\0 & 0 & 0 & 0\\\\0 & 0 & 0 & 0\\\\0 & 0 & 0 & 0\\end{matrix}\\right]\\\\\\left[\\begin{matrix}0 & 0 & 0 & 0\\\\0 & 0 & 0 & 0\\\\0 & 0 & 0 & 0\\\\0 & 0 & 0 & 0\\end{matrix}\\right] & \\left[\\begin{matrix}0 & 0 & 0 & 0\\\\0 & 0 & 0 & 0\\\\0 & 0 & 0 & 0\\\\0 & 0 & 0 & 0\\end{matrix}\\right] & \\left[\\begin{matrix}0 & 0 & - \\frac{\\partial^{2}}{\\partial x_{1}\\partial x_{0}} H{\\left(x_{0},x_{1},x_{2} \\right)} & 0\\\\0 & 0 & - \\frac{\\partial^{2}}{\\partial x_{1}^{2}} H{\\left(x_{0},x_{1},x_{2} \\right)} & 0\\\\\\frac{\\partial^{2}}{\\partial x_{1}\\partial x_{0}} H{\\left(x_{0},x_{1},x_{2} \\right)} & \\frac{\\partial^{2}}{\\partial x_{1}^{2}} H{\\left(x_{0},x_{1},x_{2} \\right)} & 0 & 0\\\\0 & 0 & 0 & 0\\end{matrix}\\right] & \\left[\\begin{matrix}0 & 0 & 0 & 0\\\\0 & 0 & 0 & 0\\\\0 & 0 & 0 & 0\\\\0 & 0 & 0 & 0\\end{matrix}\\right]\\\\\\left[\\begin{matrix}0 & 0 & 0 & 0\\\\0 & 0 & 0 & 0\\\\0 & 0 & 0 & 0\\\\0 & 0 & 0 & 0\\end{matrix}\\right] & \\left[\\begin{matrix}0 & 0 & 0 & 0\\\\0 & 0 & 0 & 0\\\\0 & 0 & 0 & 0\\\\0 & 0 & 0 & 0\\end{matrix}\\right] & \\left[\\begin{matrix}0 & 0 & 0 & 0\\\\0 & 0 & 0 & 0\\\\0 & 0 & 0 & 0\\\\0 & 0 & 0 & 0\\end{matrix}\\right] & \\left[\\begin{matrix}0 & 0 & 0 & 0\\\\0 & 0 & 0 & 0\\\\0 & 0 & 0 & 0\\\\0 & 0 & 0 & 0\\end{matrix}\\right]\\\\\\left[\\begin{matrix}0 & 0 & \\frac{\\partial^{2}}{\\partial x_{0}^{2}} H{\\left(x_{0},x_{1},x_{2} \\right)} & 0\\\\0 & 0 & \\frac{\\partial^{2}}{\\partial x_{1}\\partial x_{0}} H{\\left(x_{0},x_{1},x_{2} \\right)} & 0\\\\- \\frac{\\partial^{2}}{\\partial x_{0}^{2}} H{\\left(x_{0},x_{1},x_{2} \\right)} & - \\frac{\\partial^{2}}{\\partial x_{1}\\partial x_{0}} H{\\left(x_{0},x_{1},x_{2} \\right)} & 0 & 0\\\\0 & 0 & 0 & 0\\end{matrix}\\right] & \\left[\\begin{matrix}0 & 0 & \\frac{\\partial^{2}}{\\partial x_{1}\\partial x_{0}} H{\\left(x_{0},x_{1},x_{2} \\right)} & 0\\\\0 & 0 & \\frac{\\partial^{2}}{\\partial x_{1}^{2}} H{\\left(x_{0},x_{1},x_{2} \\right)} & 0\\\\- \\frac{\\partial^{2}}{\\partial x_{1}\\partial x_{0}} H{\\left(x_{0},x_{1},x_{2} \\right)} & - \\frac{\\partial^{2}}{\\partial x_{1}^{2}} H{\\left(x_{0},x_{1},x_{2} \\right)} & 0 & 0\\\\0 & 0 & 0 & 0\\end{matrix}\\right] & \\left[\\begin{matrix}0 & 0 & 0 & 0\\\\0 & 0 & 0 & 0\\\\0 & 0 & 0 & 0\\\\0 & 0 & 0 & 0\\end{matrix}\\right] & \\left[\\begin{matrix}0 & 0 & 0 & 0\\\\0 & 0 & 0 & 0\\\\0 & 0 & 0 & 0\\\\0 & 0 & 0 & 0\\end{matrix}\\right]\\end{matrix}\\right]$"
      ],
      "text/plain": [
       "[[[[0, 0, 0, 0], [0, 0, 0, 0], [0, 0, 0, 0], [0, 0, 0, 0]], [[0, 0, 0, 0], [0, 0, 0, 0], [0, 0, 0, 0], [0, 0, 0, 0]], [[0, 0, -Derivative(H(x_0, x_1, x_2), (x_0, 2)), 0], [0, 0, -Derivative(H(x_0, x_1, x_2), x_0, x_1), 0], [Derivative(H(x_0, x_1, x_2), (x_0, 2)), Derivative(H(x_0, x_1, x_2), x_0, x_1), 0, 0], [0, 0, 0, 0]], [[0, 0, 0, 0], [0, 0, 0, 0], [0, 0, 0, 0], [0, 0, 0, 0]]], [[[0, 0, 0, 0], [0, 0, 0, 0], [0, 0, 0, 0], [0, 0, 0, 0]], [[0, 0, 0, 0], [0, 0, 0, 0], [0, 0, 0, 0], [0, 0, 0, 0]], [[0, 0, -Derivative(H(x_0, x_1, x_2), x_0, x_1), 0], [0, 0, -Derivative(H(x_0, x_1, x_2), (x_1, 2)), 0], [Derivative(H(x_0, x_1, x_2), x_0, x_1), Derivative(H(x_0, x_1, x_2), (x_1, 2)), 0, 0], [0, 0, 0, 0]], [[0, 0, 0, 0], [0, 0, 0, 0], [0, 0, 0, 0], [0, 0, 0, 0]]], [[[0, 0, 0, 0], [0, 0, 0, 0], [0, 0, 0, 0], [0, 0, 0, 0]], [[0, 0, 0, 0], [0, 0, 0, 0], [0, 0, 0, 0], [0, 0, 0, 0]], [[0, 0, 0, 0], [0, 0, 0, 0], [0, 0, 0, 0], [0, 0, 0, 0]], [[0, 0, 0, 0], [0, 0, 0, 0], [0, 0, 0, 0], [0, 0, 0, 0]]], [[[0, 0, Derivative(H(x_0, x_1, x_2), (x_0, 2)), 0], [0, 0, Derivative(H(x_0, x_1, x_2), x_0, x_1), 0], [-Derivative(H(x_0, x_1, x_2), (x_0, 2)), -Derivative(H(x_0, x_1, x_2), x_0, x_1), 0, 0], [0, 0, 0, 0]], [[0, 0, Derivative(H(x_0, x_1, x_2), x_0, x_1), 0], [0, 0, Derivative(H(x_0, x_1, x_2), (x_1, 2)), 0], [-Derivative(H(x_0, x_1, x_2), x_0, x_1), -Derivative(H(x_0, x_1, x_2), (x_1, 2)), 0, 0], [0, 0, 0, 0]], [[0, 0, 0, 0], [0, 0, 0, 0], [0, 0, 0, 0], [0, 0, 0, 0]], [[0, 0, 0, 0], [0, 0, 0, 0], [0, 0, 0, 0], [0, 0, 0, 0]]]]"
      ]
     },
     "execution_count": 40,
     "metadata": {},
     "output_type": "execute_result"
    }
   ],
   "source": [
    "# 根据克里斯多菲符号计算曲率\n",
    "Lambda_diff = sympy.derive_by_array(Lambda, x_list)\n",
    "\n",
    "R = [[[[0] * x_num for i in range(x_num)] for j in range(x_num)] for k in range(x_num)]\n",
    "\n",
    "for i in range(x_num):\n",
    "    for j in range(x_num):\n",
    "        for k in range(x_num):\n",
    "            for m in range(x_num):\n",
    "                R[i][j][k][m] += Lambda_diff[k][i][j][m] - Lambda_diff[m][i][j][k]\n",
    "                for n in range(x_num):\n",
    "                    R[i][j][k][m] += Lambda[i][n][k] * Lambda[n][j][m] - Lambda[i][n][m] * Lambda[n][k][j]\n",
    "\n",
    "R = sympy.simplify(sympy.Array(R))\n",
    "R"
   ]
  },
  {
   "cell_type": "code",
   "execution_count": 41,
   "id": "2cd08c6c-9406-465d-a1e6-3401b2c07e47",
   "metadata": {},
   "outputs": [
    {
     "data": {
      "text/latex": [
       "$\\displaystyle \\left[\\begin{matrix}0 & 0 & 0 & 0\\\\0 & 0 & 0 & 0\\\\0 & 0 & - \\frac{\\partial^{2}}{\\partial x_{0}^{2}} H{\\left(x_{0},x_{1},x_{2} \\right)} - \\frac{\\partial^{2}}{\\partial x_{1}^{2}} H{\\left(x_{0},x_{1},x_{2} \\right)} & 0\\\\0 & 0 & 0 & 0\\end{matrix}\\right]$"
      ],
      "text/plain": [
       "[[0, 0, 0, 0], [0, 0, 0, 0], [0, 0, -Derivative(H(x_0, x_1, x_2), (x_0, 2)) - Derivative(H(x_0, x_1, x_2), (x_1, 2)), 0], [0, 0, 0, 0]]"
      ]
     },
     "execution_count": 41,
     "metadata": {},
     "output_type": "execute_result"
    }
   ],
   "source": [
    "# 计算里奇张量\n",
    "R1 = sympy.tensorcontraction(R, (0, 2))\n",
    "R1"
   ]
  },
  {
   "cell_type": "code",
   "execution_count": null,
   "id": "382c5a9b-b6ba-4225-a3d9-236cca264802",
   "metadata": {},
   "outputs": [],
   "source": []
  }
 ],
 "metadata": {
  "kernelspec": {
   "display_name": "Python 3 (ipykernel)",
   "language": "python",
   "name": "python3"
  },
  "language_info": {
   "codemirror_mode": {
    "name": "ipython",
    "version": 3
   },
   "file_extension": ".py",
   "mimetype": "text/x-python",
   "name": "python",
   "nbconvert_exporter": "python",
   "pygments_lexer": "ipython3",
   "version": "3.9.7"
  },
  "toc-autonumbering": false,
  "toc-showcode": false,
  "toc-showmarkdowntxt": false,
  "toc-showtags": false
 },
 "nbformat": 4,
 "nbformat_minor": 5
}
